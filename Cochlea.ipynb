{
 "cells": [
  {
   "cell_type": "markdown",
   "metadata": {},
   "source": [
    "The Cochlea\n",
    "===\n",
    "\n",
    "This part is based on Chapter 15 of the book [Human and Machine Hearing](http://www.machinehearing.org) by Dick Lyon, which you can download for free from the author [here](https://dicklyon.com/hmh/). \n",
    "\n",
    "Notebook by André van Schaik, [International Centre for Neuromorphic Systems](https://www.westernsydney.edu.au/icns)."
   ]
  },
  {
   "cell_type": "markdown",
   "metadata": {},
   "source": [
    "The model of the cochlea we will implement is based on the following structure:\n",
    "\n",
    "<p align=\"center\"><img src=\"./images/Cochlea.png\" alt=\"Cochlea\" style=\"width: 600px;\"/></p>\n",
    "\n",
    "This diagram, (Fig 15.1 in the book) is adapted from Dallos (1992) and elaborated, shows the functional physiological\n",
    "elements of one location in the cochlea, which can be seen as a pair of feedback loops. The short loop,\n",
    "defining the hydrodynamic wave filtering system, involves the basilar and tectorial membranes (BM–TM)\n",
    "and active feedback from the outer hair cells (OHC), working at audio frequencies. The longer and slower\n",
    "loop, the afferent/efferent loop from the inner hair cells (IHC) through the brainstem of the auditory central\n",
    "nervous system (CNS) and back, controls the activity level of the OHCs, automatically adapting the system to\n",
    "the sound level. The instantaneous wave and the slower efferent feedback interact in the OHC, the nonlinear\n",
    "element whose “motor” action provides gain via active undamping of the wave mechanics."
   ]
  },
  {
   "cell_type": "markdown",
   "metadata": {},
   "source": [
    "The compressive input–output curve implemented by the CARFAC\n",
    "model (solid) based on the figure above is compared with the passive linear or “dead” cochlear response (dashed), to show how\n",
    "extra gain at low levels reduces the input level needed to reach a threshold level of mechanical response. Here\n",
    "the mechanical threshold is chosen to correspond to 0 dB SPL with 50 dB of gain at low level. The curve is\n",
    "representative of the middle of the place or CF range, as opposed to very basal and apical regions that exhibit\n",
    "less active gain and less compression.\n",
    "\n",
    "<p align=\"center\"><img src=\"./images/Gain.png\" alt=\"Gain\" style=\"width: 600px;\"/></p>\n",
    "\n",
    "The undamping provided by the Outer Hair Cells results in a 50dB improvement in hearing threshold. Without the undamping, the voice of a typical teacher at a lecture would sound as loud as that of a whisper!"
   ]
  },
  {
   "cell_type": "markdown",
   "metadata": {},
   "source": [
    "Next, we start by modelling the Basilar Membrane in the cochlea using a cascade of filters, as shown in this notebook on [the CAR model](./CAR.ipynb)."
   ]
  }
 ],
 "metadata": {
  "anaconda-cloud": {},
  "hide_input": false,
  "interpreter": {
   "hash": "dca0ade3e726a953b501b15e8e990130d2b7799f14cfd9f4271676035ebe5511"
  },
  "kernelspec": {
   "display_name": "Python 3 (ipykernel)",
   "language": "python",
   "name": "python3"
  },
  "language_info": {
   "codemirror_mode": {
    "name": "ipython",
    "version": 3
   },
   "file_extension": ".py",
   "mimetype": "text/x-python",
   "name": "python",
   "nbconvert_exporter": "python",
   "pygments_lexer": "ipython3",
   "version": "3.11.6"
  },
  "latex_envs": {
   "bibliofile": "biblio.bib",
   "cite_by": "apalike",
   "current_citInitial": 1,
   "eqLabelWithNumbers": true,
   "eqNumInitial": 0
  },
  "widgets": {
   "state": {},
   "version": "1.1.2"
  }
 },
 "nbformat": 4,
 "nbformat_minor": 4
}
